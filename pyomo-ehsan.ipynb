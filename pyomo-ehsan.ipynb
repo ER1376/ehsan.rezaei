{
 "cells": [
  {
   "cell_type": "code",
   "execution_count": null,
   "metadata": {},
   "outputs": [],
   "source": [
    "from pyomo.environ import *\n",
    "\n",
    "\n",
    "Model = ConcreteModel()\n",
    "\n",
    "Model.n =  RangeSet(1,10)\n",
    "\n",
    "Model.n0 = RangeSet(1,2)\n",
    "\n",
    "Model.nc = RangeSet(3,10)\n",
    "\n",
    "\n",
    "\n",
    "\n",
    "\n",
    "\n",
    "x1 = {1:117 , 2:79 , 3:92 , 4:20 ,5:83 , 6:69 , 7:42 , 8:94 , 9:74 , 10:69}\n",
    "\n",
    "Model.x1 = Param(Model.n,initialize = x1)\n",
    "\n",
    "\n",
    "\n",
    "y1 = {1:174 , 2:29 , 3:162 , 4:86 , 5:43 , 6:212 , 7 :50 , 8:118 , 9:64 , 10:194}\n",
    "\n",
    "Model.y1 = Param(Model.n,initialize = y1)\n",
    "\n",
    "\n",
    "\n",
    "\n",
    "d = {3:112 , 4:112 , 5:62 , 6:145 , 7:135 , 8:128 , 9:71 , 10:54}\n",
    "\n",
    "Model.d = Param(Model.nc,initialize = d)\n",
    "\n",
    "\n",
    "\n",
    "p = {3:23 , 4:200 , 5:13 , 6:200 , 7:27 , 8:200 , 9:15 , 10:98}\n",
    "\n",
    "Model.p = Param(Model.nc,initialize = p)\n",
    "\n",
    "\n",
    "\n",
    "fd ={1:36 , 2:33}\n",
    "\n",
    "Model.fd = Param(Model.n0,initialize = fd)\n",
    "\n",
    "\n",
    "\n",
    "cd = 1000\n",
    "\n",
    "\n",
    "cv = 200\n",
    "\n",
    "fv =20\n",
    "\n",
    "\n",
    "c ={}\n",
    "for i in Model.n:\n",
    "    for j in Model.n:\n",
    "               c[i,j] = ((x1[i]-x1[j])**2+ (y1[i]-y1[j])**2)**0.5\n",
    "\n",
    "Model.c = Param(Model.n,Model.n ,initialize = c)\n",
    "\n",
    "\n",
    "\n",
    "Model.x  = Var(Model.n , Model.n , within = Binary)\n",
    "\n",
    "\n",
    "Model.y = Var(Model.n0  , within = Binary)\n",
    "\n",
    "Model.z = Var(Model.nc , Model.n0  , within = Binary)\n",
    "\n",
    "\n",
    "Model.v = Var(Model.n,Model.n , within = PositiveReals)\n",
    "\n",
    "Model.u = Var(Model.n,Model.n , within = PositiveReals)\n",
    "\n",
    "\n",
    "\n",
    "\n",
    "def _2 (Model,i):\n",
    "     \n",
    "        xij=0\n",
    "        for j in Model.n:\n",
    "            xij+=Model.x[i,j]\n",
    "            return xij ==1\n",
    "    \n",
    "Model._2 = Constraint(Model.nc,rule =_2)\n",
    "\n",
    "\n",
    "\n",
    "def _3 (Model,i):\n",
    "    \n",
    "        xij=0\n",
    "        xji=0\n",
    "        for j in Model.n:\n",
    "            xij+=Model.x[i,j]\n",
    "            xji+=Model.x[j,i]\n",
    "        return xij == xji\n",
    "Model._3 = Constraint(Model.n,rule =_3)\n",
    "\n",
    "\n",
    "\n",
    "def _4 (Model,i):\n",
    "    \n",
    "        uij = 0\n",
    "        uji = 0\n",
    "        for j in Model.n:\n",
    "            uji +=Model.u[j,i]\n",
    "            uij +=Model.u[i,j]\n",
    "        return uji - uij == Model.d[i]\n",
    "Model._4 = Constraint(Model.nc,rule =_4)\n",
    "\n",
    "\n",
    "\n",
    "def _5 (Model,i):\n",
    "    \n",
    "        vij = 0\n",
    "        vji = 0\n",
    "        for j in Model.n:\n",
    "            vji +=Model.v[j,i]\n",
    "            vij +=Model.v[i,j]\n",
    "        return vji - vij == Model.p[i]\n",
    "Model._5 = Constraint(Model.nc,rule =_5)\n",
    "\n",
    "\n",
    "def _6 (Model,i,j):\n",
    "  \n",
    "            if i == j:\n",
    "                Constraint.Skip\n",
    "        \n",
    "            return  Model.u[i,j] + Model.v[i,j] <=cv * Model.x[i,j]\n",
    "            \n",
    "                  \n",
    "Model._6 = Constraint(Model.nc,Model.nc,rule =_6)\n",
    "\n",
    "\n",
    "\n",
    "def _7 (Model,k):\n",
    "    \n",
    "        ukj = 0\n",
    "        zjkdj = 0\n",
    "        for j in Model.nc:\n",
    "            ukj += Model.u[k,j]\n",
    "            zjkdj +=Model.z[j,k]*Model.d[j]\n",
    "        return ukj == zjkdj\n",
    "Model._7 = Constraint(Model.n0,rule =_7)\n",
    "\n",
    "\n",
    "\n",
    "def _8 (Model,k):\n",
    "    \n",
    "        ujk=0\n",
    "        for j in Model.nc:\n",
    "            ujk+=Model.u[j,k]\n",
    "        return ujk == 0\n",
    "Model._8 = Constraint(Model.n0,rule =_8)\n",
    "\n",
    "\n",
    "\n",
    "def _9 (Model,k):\n",
    "    \n",
    "        vjk = 0\n",
    "        zjkpj = 0\n",
    "        for j in Model.nc:\n",
    "            vjk += Model.v[k,j]\n",
    "            zjkpj +=Model.z[j,k]*Model.p[j]\n",
    "        return vjk == zjkpj\n",
    "Model._9 = Constraint(Model.n0,rule =_9)\n",
    "\n",
    "\n",
    "\n",
    "def _10 (Model,k):\n",
    "    \n",
    "        vkj=0\n",
    "        for j in Model.nc:\n",
    "            vkj+=Model.v[k,j]\n",
    "        return vkj == 0\n",
    "Model._10 = Constraint(Model.n0,rule =_10)\n",
    "\n",
    "\n",
    "\n",
    "\n",
    "def _11 (Model,j,i):\n",
    "   \n",
    "            return Model.u[i,j] <= (cv - Model.d[i])* Model.x[i,j]\n",
    "Model._11 = Constraint(Model.n,Model.nc,rule =_11)\n",
    "\n",
    "\n",
    "def _12 (Model,i,j):\n",
    "   \n",
    "            return Model.v[i,j] <= (cv - Model.p[j])* Model.x[i,j]\n",
    "Model._12 = Constraint(Model.n,Model.nc,rule =_12)\n",
    "\n",
    "\n",
    "\n",
    "def _13 (Model,i,j):\n",
    "   \n",
    "            return Model.u[i,j] >= Model.d[j]*Model.x[i,j]\n",
    "Model._13 = Constraint(Model.n,Model.nc,rule =_13)\n",
    "\n",
    "\n",
    "\n",
    "def _14 (Model,j,i):\n",
    "    \n",
    "            return Model.v[i,j] >= Model.p[i] * Model.x[i,j]\n",
    "Model._14 = Constraint(Model.n,Model.nc,rule =_14)\n",
    "\n",
    "def _15 (Model,i):\n",
    "    \n",
    "        zik=0\n",
    "        for k in Model.n0:\n",
    "            zik += Model.z[i,k]\n",
    "        return zik == 1\n",
    "Model._15 = Constraint(Model.nc,rule =_15)\n",
    "\n",
    "def _16 (Model,k):\n",
    "    \n",
    "        dizik = 0\n",
    "        for i in Model.nc:\n",
    "            dizik += Model.d[i] * Model.z[i,k]\n",
    "        return dizik <=cd * Model.y[k]\n",
    "Model._16 = Constraint(Model.n0,rule =_16)\n",
    "\n",
    "def _17 (Model,k):\n",
    "    \n",
    "        pizik = 0\n",
    "        for i in Model.nc:\n",
    "            pizik += Model.p[i] * Model.z[i,k]\n",
    "        return pizik <=cd * Model.y[k]\n",
    "Model._17 = Constraint(Model.n0,rule =_17)\n",
    "\n",
    "def _18 (Model,k):\n",
    "    \n",
    "        for i in Model.nc:\n",
    "            return Model.x[i,k] <= Model.z[i,k]\n",
    "Model._18 = Constraint(Model.n0,rule =_18)\n",
    "\n",
    "def _19 (Model,k,i):\n",
    "   \n",
    "            return Model.x[k,i] <= Model.z[i,k]\n",
    "Model._19 = Constraint(Model.n0,Model.nc,rule =_19)\n",
    "\n",
    "def _20 (Model,i,j,k):\n",
    "    \n",
    "                if i==j :\n",
    "                    Constraint.Skip\n",
    "                zjm = 0\n",
    "                for m in Model.n0:\n",
    "                    if m == k:\n",
    "                            Constraint.Skip\n",
    "                    \n",
    "                    zjm += Model.z[j,m]\n",
    "                    return Model.x[i,j]+Model.z[i,k] + zjm <=2\n",
    "Model._20 = Constraint(Model.nc,Model.nc,Model.n0,rule =_20)\n",
    "\n",
    "\n",
    "def obj (Model):\n",
    "    cx = 0\n",
    "    fdy = 0\n",
    "    fvx = 0\n",
    "    for i in Model.n :\n",
    "        for j in Model.n :\n",
    "            cx += Model.c[i,j]*Model.x[i,j]\n",
    "    for k in Model.n0 :\n",
    "        fdy += Model.fd[k] * Model.y[k]\n",
    "    for k in Model.n0 :\n",
    "        for i in Model.nc :\n",
    "            fvx += fv * Model.x[k,i]\n",
    "    return cx + fdy + fvx\n",
    "Model.objective = Objective(rule=obj)\n",
    "\n",
    "\n",
    "\n",
    "def pyomo_postprocess(options=None, instance=None, results=None):\n",
    "        Model.objective.display()\n",
    "        \n",
    "\n",
    "    #This is an optional code path that allows the script to be run outside of\n",
    "    #pyomo command-line.  For example:  python transport.py\n",
    "if __name__ == '__main__':\n",
    "   # This emulates what the pyomo command-line tools does\n",
    "    from pyomo.opt import SolverFactory\n",
    "#   import pyomo.environ\n",
    "    opt = SolverFactory(\"glpk\")\n",
    "    results = opt.solve(Model)\n",
    "    #sends results to stdout\n",
    "#    results.write()\n",
    "#    print(\"\\nDisplaying Solution\\n\" + '!'*60)\n",
    "     pyomo_postprocess(None, Model, results)"
   ]
  },
  {
   "cell_type": "code",
   "execution_count": 75,
   "metadata": {
    "scrolled": true
   },
   "outputs": [
    {
     "name": "stdout",
     "output_type": "stream",
     "text": [
      "objective : Size=1, Index=None, Active=True\n",
      "    Key  : Active : Value\n",
      "    None :   True : 873.5784213002651\n"
     ]
    }
   ],
   "source": [
    "Model.objective.display()"
   ]
  },
  {
   "cell_type": "code",
   "execution_count": 39,
   "metadata": {},
   "outputs": [
    {
     "data": {
      "text/plain": [
       "{1: 55, 2: 90, 3: 81, 4: 82, 5: 52, 6: 92, 7: 54, 8: 77, 9: 50, 10: 56}"
      ]
     },
     "execution_count": 39,
     "metadata": {},
     "output_type": "execute_result"
    }
   ],
   "source": [
    "x1\n"
   ]
  },
  {
   "cell_type": "code",
   "execution_count": 40,
   "metadata": {},
   "outputs": [
    {
     "data": {
      "text/plain": [
       "{1: 96, 2: 92, 3: 100, 4: 73, 5: 67, 6: 52, 7: 87, 8: 58, 9: 61, 10: 55}"
      ]
     },
     "execution_count": 40,
     "metadata": {},
     "output_type": "execute_result"
    }
   ],
   "source": [
    "y1"
   ]
  },
  {
   "cell_type": "code",
   "execution_count": 41,
   "metadata": {},
   "outputs": [
    {
     "data": {
      "text/plain": [
       "{1: 34, 2: 48}"
      ]
     },
     "execution_count": 41,
     "metadata": {},
     "output_type": "execute_result"
    }
   ],
   "source": [
    "fd"
   ]
  },
  {
   "cell_type": "code",
   "execution_count": 42,
   "metadata": {},
   "outputs": [
    {
     "data": {
      "text/plain": [
       "{3: 95, 4: 56, 5: 83, 6: 61, 7: 62, 8: 90, 9: 58, 10: 92}"
      ]
     },
     "execution_count": 42,
     "metadata": {},
     "output_type": "execute_result"
    }
   ],
   "source": [
    "d"
   ]
  },
  {
   "cell_type": "code",
   "execution_count": 43,
   "metadata": {},
   "outputs": [
    {
     "data": {
      "text/plain": [
       "{3: 68, 4: 60, 5: 81, 6: 91, 7: 80, 8: 52, 9: 86, 10: 67}"
      ]
     },
     "execution_count": 43,
     "metadata": {},
     "output_type": "execute_result"
    }
   ],
   "source": [
    "p"
   ]
  },
  {
   "cell_type": "code",
   "execution_count": 44,
   "metadata": {},
   "outputs": [
    {
     "data": {
      "text/plain": [
       "200"
      ]
     },
     "execution_count": 44,
     "metadata": {},
     "output_type": "execute_result"
    }
   ],
   "source": [
    "cv"
   ]
  },
  {
   "cell_type": "code",
   "execution_count": 45,
   "metadata": {},
   "outputs": [
    {
     "data": {
      "text/plain": [
       "500"
      ]
     },
     "execution_count": 45,
     "metadata": {},
     "output_type": "execute_result"
    }
   ],
   "source": [
    "cd"
   ]
  },
  {
   "cell_type": "code",
   "execution_count": 46,
   "metadata": {},
   "outputs": [
    {
     "data": {
      "text/plain": [
       "20"
      ]
     },
     "execution_count": 46,
     "metadata": {},
     "output_type": "execute_result"
    }
   ],
   "source": [
    "fv"
   ]
  },
  {
   "cell_type": "code",
   "execution_count": 47,
   "metadata": {},
   "outputs": [
    {
     "name": "stdout",
     "output_type": "stream",
     "text": [
      "n : Dim=0, Dimen=1, Size=10, Domain=Integers, Ordered=True, Bounds=(1, 10)\n",
      "    Virtual\n"
     ]
    }
   ],
   "source": [
    "Model.n.display()"
   ]
  },
  {
   "cell_type": "code",
   "execution_count": 48,
   "metadata": {
    "scrolled": false
   },
   "outputs": [
    {
     "name": "stdout",
     "output_type": "stream",
     "text": [
      "z : Size=16, Index=z_index\n",
      "    Key     : Lower : Value : Upper : Fixed : Stale : Domain\n",
      "     (3, 1) :     0 :   1.0 :     1 : False : False : Binary\n",
      "     (3, 2) :     0 :   0.0 :     1 : False : False : Binary\n",
      "     (4, 1) :     0 :   1.0 :     1 : False : False : Binary\n",
      "     (4, 2) :     0 :   0.0 :     1 : False : False : Binary\n",
      "     (5, 1) :     0 :   0.0 :     1 : False : False : Binary\n",
      "     (5, 2) :     0 :   1.0 :     1 : False : False : Binary\n",
      "     (6, 1) :     0 :   1.0 :     1 : False : False : Binary\n",
      "     (6, 2) :     0 :   0.0 :     1 : False : False : Binary\n",
      "     (7, 1) :     0 :   1.0 :     1 : False : False : Binary\n",
      "     (7, 2) :     0 :   0.0 :     1 : False : False : Binary\n",
      "     (8, 1) :     0 :   0.0 :     1 : False : False : Binary\n",
      "     (8, 2) :     0 :   1.0 :     1 : False : False : Binary\n",
      "     (9, 1) :     0 :   0.0 :     1 : False : False : Binary\n",
      "     (9, 2) :     0 :   1.0 :     1 : False : False : Binary\n",
      "    (10, 1) :     0 :   1.0 :     1 : False : False : Binary\n",
      "    (10, 2) :     0 :   0.0 :     1 : False : False : Binary\n"
     ]
    }
   ],
   "source": [
    "Model.z.display()"
   ]
  },
  {
   "cell_type": "code",
   "execution_count": 49,
   "metadata": {
    "scrolled": true
   },
   "outputs": [
    {
     "name": "stdout",
     "output_type": "stream",
     "text": [
      "x : Size=100, Index=x_index\n",
      "    Key      : Lower : Value : Upper : Fixed : Stale : Domain\n",
      "      (1, 1) :     0 :   0.0 :     1 : False : False : Binary\n",
      "      (1, 2) :     0 :   0.0 :     1 : False : False : Binary\n",
      "      (1, 3) :     0 :   1.0 :     1 : False : False : Binary\n",
      "      (1, 4) :     0 :   1.0 :     1 : False : False : Binary\n",
      "      (1, 5) :     0 :   1.0 :     1 : False : False : Binary\n",
      "      (1, 6) :     0 :   1.0 :     1 : False : False : Binary\n",
      "      (1, 7) :     0 :   1.0 :     1 : False : False : Binary\n",
      "      (1, 8) :     0 :   1.0 :     1 : False : False : Binary\n",
      "      (1, 9) :     0 :   1.0 :     1 : False : False : Binary\n",
      "     (1, 10) :     0 :   1.0 :     1 : False : False : Binary\n",
      "      (2, 1) :     0 :   0.0 :     1 : False : False : Binary\n",
      "      (2, 2) :     0 :  None :     1 : False :  True : Binary\n",
      "      (2, 3) :     0 :   0.0 :     1 : False : False : Binary\n",
      "      (2, 4) :     0 :   0.0 :     1 : False : False : Binary\n",
      "      (2, 5) :     0 :   0.0 :     1 : False : False : Binary\n",
      "      (2, 6) :     0 :   0.0 :     1 : False : False : Binary\n",
      "      (2, 7) :     0 :   0.0 :     1 : False : False : Binary\n",
      "      (2, 8) :     0 :   0.0 :     1 : False : False : Binary\n",
      "      (2, 9) :     0 :   0.0 :     1 : False : False : Binary\n",
      "     (2, 10) :     0 :   0.0 :     1 : False : False : Binary\n",
      "      (3, 1) :     0 :   1.0 :     1 : False : False : Binary\n",
      "      (3, 2) :     0 :   0.0 :     1 : False : False : Binary\n",
      "      (3, 3) :     0 :   0.0 :     1 : False : False : Binary\n",
      "      (3, 4) :     0 :   0.0 :     1 : False : False : Binary\n",
      "      (3, 5) :     0 :   0.0 :     1 : False : False : Binary\n",
      "      (3, 6) :     0 :   0.0 :     1 : False : False : Binary\n",
      "      (3, 7) :     0 :   0.0 :     1 : False : False : Binary\n",
      "      (3, 8) :     0 :   0.0 :     1 : False : False : Binary\n",
      "      (3, 9) :     0 :   0.0 :     1 : False : False : Binary\n",
      "     (3, 10) :     0 :   0.0 :     1 : False : False : Binary\n",
      "      (4, 1) :     0 :   1.0 :     1 : False : False : Binary\n",
      "      (4, 2) :     0 :   0.0 :     1 : False : False : Binary\n",
      "      (4, 3) :     0 :   0.0 :     1 : False : False : Binary\n",
      "      (4, 4) :     0 :   0.0 :     1 : False : False : Binary\n",
      "      (4, 5) :     0 :   0.0 :     1 : False : False : Binary\n",
      "      (4, 6) :     0 :   0.0 :     1 : False : False : Binary\n",
      "      (4, 7) :     0 :   0.0 :     1 : False : False : Binary\n",
      "      (4, 8) :     0 :   0.0 :     1 : False : False : Binary\n",
      "      (4, 9) :     0 :   0.0 :     1 : False : False : Binary\n",
      "     (4, 10) :     0 :   0.0 :     1 : False : False : Binary\n",
      "      (5, 1) :     0 :   1.0 :     1 : False : False : Binary\n",
      "      (5, 2) :     0 :   0.0 :     1 : False : False : Binary\n",
      "      (5, 3) :     0 :   0.0 :     1 : False : False : Binary\n",
      "      (5, 4) :     0 :   0.0 :     1 : False : False : Binary\n",
      "      (5, 5) :     0 :   0.0 :     1 : False : False : Binary\n",
      "      (5, 6) :     0 :   0.0 :     1 : False : False : Binary\n",
      "      (5, 7) :     0 :   0.0 :     1 : False : False : Binary\n",
      "      (5, 8) :     0 :   0.0 :     1 : False : False : Binary\n",
      "      (5, 9) :     0 :   0.0 :     1 : False : False : Binary\n",
      "     (5, 10) :     0 :   0.0 :     1 : False : False : Binary\n",
      "      (6, 1) :     0 :   1.0 :     1 : False : False : Binary\n",
      "      (6, 2) :     0 :   0.0 :     1 : False : False : Binary\n",
      "      (6, 3) :     0 :   0.0 :     1 : False : False : Binary\n",
      "      (6, 4) :     0 :   0.0 :     1 : False : False : Binary\n",
      "      (6, 5) :     0 :   0.0 :     1 : False : False : Binary\n",
      "      (6, 6) :     0 :   0.0 :     1 : False : False : Binary\n",
      "      (6, 7) :     0 :   0.0 :     1 : False : False : Binary\n",
      "      (6, 8) :     0 :   0.0 :     1 : False : False : Binary\n",
      "      (6, 9) :     0 :   0.0 :     1 : False : False : Binary\n",
      "     (6, 10) :     0 :   0.0 :     1 : False : False : Binary\n",
      "      (7, 1) :     0 :   1.0 :     1 : False : False : Binary\n",
      "      (7, 2) :     0 :   0.0 :     1 : False : False : Binary\n",
      "      (7, 3) :     0 :   0.0 :     1 : False : False : Binary\n",
      "      (7, 4) :     0 :   0.0 :     1 : False : False : Binary\n",
      "      (7, 5) :     0 :   0.0 :     1 : False : False : Binary\n",
      "      (7, 6) :     0 :   0.0 :     1 : False : False : Binary\n",
      "      (7, 7) :     0 :   0.0 :     1 : False : False : Binary\n",
      "      (7, 8) :     0 :   0.0 :     1 : False : False : Binary\n",
      "      (7, 9) :     0 :   0.0 :     1 : False : False : Binary\n",
      "     (7, 10) :     0 :   0.0 :     1 : False : False : Binary\n",
      "      (8, 1) :     0 :   1.0 :     1 : False : False : Binary\n",
      "      (8, 2) :     0 :   0.0 :     1 : False : False : Binary\n",
      "      (8, 3) :     0 :   0.0 :     1 : False : False : Binary\n",
      "      (8, 4) :     0 :   0.0 :     1 : False : False : Binary\n",
      "      (8, 5) :     0 :   0.0 :     1 : False : False : Binary\n",
      "      (8, 6) :     0 :   0.0 :     1 : False : False : Binary\n",
      "      (8, 7) :     0 :   0.0 :     1 : False : False : Binary\n",
      "      (8, 8) :     0 :   0.0 :     1 : False : False : Binary\n",
      "      (8, 9) :     0 :   0.0 :     1 : False : False : Binary\n",
      "     (8, 10) :     0 :   0.0 :     1 : False : False : Binary\n",
      "      (9, 1) :     0 :   1.0 :     1 : False : False : Binary\n",
      "      (9, 2) :     0 :   0.0 :     1 : False : False : Binary\n",
      "      (9, 3) :     0 :   0.0 :     1 : False : False : Binary\n",
      "      (9, 4) :     0 :   0.0 :     1 : False : False : Binary\n",
      "      (9, 5) :     0 :   0.0 :     1 : False : False : Binary\n",
      "      (9, 6) :     0 :   0.0 :     1 : False : False : Binary\n",
      "      (9, 7) :     0 :   0.0 :     1 : False : False : Binary\n",
      "      (9, 8) :     0 :   0.0 :     1 : False : False : Binary\n",
      "      (9, 9) :     0 :   0.0 :     1 : False : False : Binary\n",
      "     (9, 10) :     0 :   0.0 :     1 : False : False : Binary\n",
      "     (10, 1) :     0 :   1.0 :     1 : False : False : Binary\n",
      "     (10, 2) :     0 :   0.0 :     1 : False : False : Binary\n",
      "     (10, 3) :     0 :   0.0 :     1 : False : False : Binary\n",
      "     (10, 4) :     0 :   0.0 :     1 : False : False : Binary\n",
      "     (10, 5) :     0 :   0.0 :     1 : False : False : Binary\n",
      "     (10, 6) :     0 :   0.0 :     1 : False : False : Binary\n",
      "     (10, 7) :     0 :   0.0 :     1 : False : False : Binary\n",
      "     (10, 8) :     0 :   0.0 :     1 : False : False : Binary\n",
      "     (10, 9) :     0 :   0.0 :     1 : False : False : Binary\n",
      "    (10, 10) :     0 :   0.0 :     1 : False : False : Binary\n"
     ]
    }
   ],
   "source": [
    "Model.x.display()"
   ]
  },
  {
   "cell_type": "code",
   "execution_count": 50,
   "metadata": {},
   "outputs": [
    {
     "name": "stdout",
     "output_type": "stream",
     "text": [
      "y : Size=2, Index=y_index\n",
      "    Key : Lower : Value : Upper : Fixed : Stale : Domain\n",
      "      1 :     0 :   1.0 :     1 : False : False : Binary\n",
      "      2 :     0 :   0.0 :     1 : False : False : Binary\n"
     ]
    }
   ],
   "source": [
    "Model.y.display()"
   ]
  },
  {
   "cell_type": "code",
   "execution_count": 51,
   "metadata": {},
   "outputs": [
    {
     "name": "stdout",
     "output_type": "stream",
     "text": [
      "v : Size=100, Index=v_index\n",
      "    Key      : Lower : Value : Upper : Fixed : Stale : Domain\n",
      "      (1, 1) :     0 :  None :  None : False :  True : PositiveReals\n",
      "      (1, 2) :     0 :   0.0 :  None : False : False : PositiveReals\n",
      "      (1, 3) :     0 :  68.0 :  None : False : False : PositiveReals\n",
      "      (1, 4) :     0 :  60.0 :  None : False : False : PositiveReals\n",
      "      (1, 5) :     0 :  81.0 :  None : False : False : PositiveReals\n",
      "      (1, 6) :     0 :  91.0 :  None : False : False : PositiveReals\n",
      "      (1, 7) :     0 :  80.0 :  None : False : False : PositiveReals\n",
      "      (1, 8) :     0 :  52.0 :  None : False : False : PositiveReals\n",
      "      (1, 9) :     0 :  86.0 :  None : False : False : PositiveReals\n",
      "     (1, 10) :     0 :  67.0 :  None : False : False : PositiveReals\n",
      "      (2, 1) :     0 :   0.0 :  None : False : False : PositiveReals\n",
      "      (2, 2) :     0 :  None :  None : False :  True : PositiveReals\n",
      "      (2, 3) :     0 :   0.0 :  None : False : False : PositiveReals\n",
      "      (2, 4) :     0 :   0.0 :  None : False : False : PositiveReals\n",
      "      (2, 5) :     0 :   0.0 :  None : False : False : PositiveReals\n",
      "      (2, 6) :     0 :   0.0 :  None : False : False : PositiveReals\n",
      "      (2, 7) :     0 :   0.0 :  None : False : False : PositiveReals\n",
      "      (2, 8) :     0 :   0.0 :  None : False : False : PositiveReals\n",
      "      (2, 9) :     0 :   0.0 :  None : False : False : PositiveReals\n",
      "     (2, 10) :     0 :   0.0 :  None : False : False : PositiveReals\n",
      "      (3, 1) :     0 :   0.0 :  None : False : False : PositiveReals\n",
      "      (3, 2) :     0 :   0.0 :  None : False : False : PositiveReals\n",
      "      (3, 3) :     0 :   0.0 :  None : False : False : PositiveReals\n",
      "      (3, 4) :     0 :   0.0 :  None : False : False : PositiveReals\n",
      "      (3, 5) :     0 :   0.0 :  None : False : False : PositiveReals\n",
      "      (3, 6) :     0 :   0.0 :  None : False : False : PositiveReals\n",
      "      (3, 7) :     0 :   0.0 :  None : False : False : PositiveReals\n",
      "      (3, 8) :     0 :   0.0 :  None : False : False : PositiveReals\n",
      "      (3, 9) :     0 :   0.0 :  None : False : False : PositiveReals\n",
      "     (3, 10) :     0 :   0.0 :  None : False : False : PositiveReals\n",
      "      (4, 1) :     0 :   0.0 :  None : False : False : PositiveReals\n",
      "      (4, 2) :     0 :   0.0 :  None : False : False : PositiveReals\n",
      "      (4, 3) :     0 :   0.0 :  None : False : False : PositiveReals\n",
      "      (4, 4) :     0 :   0.0 :  None : False : False : PositiveReals\n",
      "      (4, 5) :     0 :   0.0 :  None : False : False : PositiveReals\n",
      "      (4, 6) :     0 :   0.0 :  None : False : False : PositiveReals\n",
      "      (4, 7) :     0 :   0.0 :  None : False : False : PositiveReals\n",
      "      (4, 8) :     0 :   0.0 :  None : False : False : PositiveReals\n",
      "      (4, 9) :     0 :   0.0 :  None : False : False : PositiveReals\n",
      "     (4, 10) :     0 :   0.0 :  None : False : False : PositiveReals\n",
      "      (5, 1) :     0 :   0.0 :  None : False : False : PositiveReals\n",
      "      (5, 2) :     0 :   0.0 :  None : False : False : PositiveReals\n",
      "      (5, 3) :     0 :   0.0 :  None : False : False : PositiveReals\n",
      "      (5, 4) :     0 :   0.0 :  None : False : False : PositiveReals\n",
      "      (5, 5) :     0 :   0.0 :  None : False : False : PositiveReals\n",
      "      (5, 6) :     0 :   0.0 :  None : False : False : PositiveReals\n",
      "      (5, 7) :     0 :   0.0 :  None : False : False : PositiveReals\n",
      "      (5, 8) :     0 :   0.0 :  None : False : False : PositiveReals\n",
      "      (5, 9) :     0 :   0.0 :  None : False : False : PositiveReals\n",
      "     (5, 10) :     0 :   0.0 :  None : False : False : PositiveReals\n",
      "      (6, 1) :     0 :   0.0 :  None : False : False : PositiveReals\n",
      "      (6, 2) :     0 :   0.0 :  None : False : False : PositiveReals\n",
      "      (6, 3) :     0 :   0.0 :  None : False : False : PositiveReals\n",
      "      (6, 4) :     0 :   0.0 :  None : False : False : PositiveReals\n",
      "      (6, 5) :     0 :   0.0 :  None : False : False : PositiveReals\n",
      "      (6, 6) :     0 :   0.0 :  None : False : False : PositiveReals\n",
      "      (6, 7) :     0 :   0.0 :  None : False : False : PositiveReals\n",
      "      (6, 8) :     0 :   0.0 :  None : False : False : PositiveReals\n",
      "      (6, 9) :     0 :   0.0 :  None : False : False : PositiveReals\n",
      "     (6, 10) :     0 :   0.0 :  None : False : False : PositiveReals\n",
      "      (7, 1) :     0 :   0.0 :  None : False : False : PositiveReals\n",
      "      (7, 2) :     0 :   0.0 :  None : False : False : PositiveReals\n",
      "      (7, 3) :     0 :   0.0 :  None : False : False : PositiveReals\n",
      "      (7, 4) :     0 :   0.0 :  None : False : False : PositiveReals\n",
      "      (7, 5) :     0 :   0.0 :  None : False : False : PositiveReals\n",
      "      (7, 6) :     0 :   0.0 :  None : False : False : PositiveReals\n",
      "      (7, 7) :     0 :   0.0 :  None : False : False : PositiveReals\n",
      "      (7, 8) :     0 :   0.0 :  None : False : False : PositiveReals\n",
      "      (7, 9) :     0 :   0.0 :  None : False : False : PositiveReals\n",
      "     (7, 10) :     0 :   0.0 :  None : False : False : PositiveReals\n",
      "      (8, 1) :     0 :   0.0 :  None : False : False : PositiveReals\n",
      "      (8, 2) :     0 :   0.0 :  None : False : False : PositiveReals\n",
      "      (8, 3) :     0 :   0.0 :  None : False : False : PositiveReals\n",
      "      (8, 4) :     0 :   0.0 :  None : False : False : PositiveReals\n",
      "      (8, 5) :     0 :   0.0 :  None : False : False : PositiveReals\n",
      "      (8, 6) :     0 :   0.0 :  None : False : False : PositiveReals\n",
      "      (8, 7) :     0 :   0.0 :  None : False : False : PositiveReals\n",
      "      (8, 8) :     0 :   0.0 :  None : False : False : PositiveReals\n",
      "      (8, 9) :     0 :   0.0 :  None : False : False : PositiveReals\n",
      "     (8, 10) :     0 :   0.0 :  None : False : False : PositiveReals\n",
      "      (9, 1) :     0 :   0.0 :  None : False : False : PositiveReals\n",
      "      (9, 2) :     0 :   0.0 :  None : False : False : PositiveReals\n",
      "      (9, 3) :     0 :   0.0 :  None : False : False : PositiveReals\n",
      "      (9, 4) :     0 :   0.0 :  None : False : False : PositiveReals\n",
      "      (9, 5) :     0 :   0.0 :  None : False : False : PositiveReals\n",
      "      (9, 6) :     0 :   0.0 :  None : False : False : PositiveReals\n",
      "      (9, 7) :     0 :   0.0 :  None : False : False : PositiveReals\n",
      "      (9, 8) :     0 :   0.0 :  None : False : False : PositiveReals\n",
      "      (9, 9) :     0 :   0.0 :  None : False : False : PositiveReals\n",
      "     (9, 10) :     0 :   0.0 :  None : False : False : PositiveReals\n",
      "     (10, 1) :     0 :   0.0 :  None : False : False : PositiveReals\n",
      "     (10, 2) :     0 :   0.0 :  None : False : False : PositiveReals\n",
      "     (10, 3) :     0 :   0.0 :  None : False : False : PositiveReals\n",
      "     (10, 4) :     0 :   0.0 :  None : False : False : PositiveReals\n",
      "     (10, 5) :     0 :   0.0 :  None : False : False : PositiveReals\n",
      "     (10, 6) :     0 :   0.0 :  None : False : False : PositiveReals\n",
      "     (10, 7) :     0 :   0.0 :  None : False : False : PositiveReals\n",
      "     (10, 8) :     0 :   0.0 :  None : False : False : PositiveReals\n",
      "     (10, 9) :     0 :   0.0 :  None : False : False : PositiveReals\n",
      "    (10, 10) :     0 :   0.0 :  None : False : False : PositiveReals\n"
     ]
    }
   ],
   "source": [
    "Model.v.display()"
   ]
  },
  {
   "cell_type": "code",
   "execution_count": 52,
   "metadata": {
    "scrolled": true
   },
   "outputs": [
    {
     "name": "stdout",
     "output_type": "stream",
     "text": [
      "u : Size=100, Index=u_index\n",
      "    Key      : Lower : Value : Upper : Fixed : Stale : Domain\n",
      "      (1, 1) :     0 :  None :  None : False :  True : PositiveReals\n",
      "      (1, 2) :     0 :   0.0 :  None : False : False : PositiveReals\n",
      "      (1, 3) :     0 :  95.0 :  None : False : False : PositiveReals\n",
      "      (1, 4) :     0 :   0.0 :  None : False : False : PositiveReals\n",
      "      (1, 5) :     0 :  58.0 :  None : False : False : PositiveReals\n",
      "      (1, 6) :     0 :  61.0 :  None : False : False : PositiveReals\n",
      "      (1, 7) :     0 :  62.0 :  None : False : False : PositiveReals\n",
      "      (1, 8) :     0 :  90.0 :  None : False : False : PositiveReals\n",
      "      (1, 9) :     0 :   0.0 :  None : False : False : PositiveReals\n",
      "     (1, 10) :     0 :   0.0 :  None : False : False : PositiveReals\n",
      "      (2, 1) :     0 :   0.0 :  None : False : False : PositiveReals\n",
      "      (2, 2) :     0 :  None :  None : False :  True : PositiveReals\n",
      "      (2, 3) :     0 :   0.0 :  None : False : False : PositiveReals\n",
      "      (2, 4) :     0 :  56.0 :  None : False : False : PositiveReals\n",
      "      (2, 5) :     0 :  25.0 :  None : False : False : PositiveReals\n",
      "      (2, 6) :     0 :   0.0 :  None : False : False : PositiveReals\n",
      "      (2, 7) :     0 :   0.0 :  None : False : False : PositiveReals\n",
      "      (2, 8) :     0 :   0.0 :  None : False : False : PositiveReals\n",
      "      (2, 9) :     0 :  58.0 :  None : False : False : PositiveReals\n",
      "     (2, 10) :     0 :  92.0 :  None : False : False : PositiveReals\n",
      "      (3, 1) :     0 :   0.0 :  None : False : False : PositiveReals\n",
      "      (3, 2) :     0 :   0.0 :  None : False : False : PositiveReals\n",
      "      (3, 3) :     0 :   0.0 :  None : False : False : PositiveReals\n",
      "      (3, 4) :     0 :   0.0 :  None : False : False : PositiveReals\n",
      "      (3, 5) :     0 :   0.0 :  None : False : False : PositiveReals\n",
      "      (3, 6) :     0 :   0.0 :  None : False : False : PositiveReals\n",
      "      (3, 7) :     0 :   0.0 :  None : False : False : PositiveReals\n",
      "      (3, 8) :     0 :   0.0 :  None : False : False : PositiveReals\n",
      "      (3, 9) :     0 :   0.0 :  None : False : False : PositiveReals\n",
      "     (3, 10) :     0 :   0.0 :  None : False : False : PositiveReals\n",
      "      (4, 1) :     0 :   0.0 :  None : False : False : PositiveReals\n",
      "      (4, 2) :     0 :   0.0 :  None : False : False : PositiveReals\n",
      "      (4, 3) :     0 :   0.0 :  None : False : False : PositiveReals\n",
      "      (4, 4) :     0 :   0.0 :  None : False : False : PositiveReals\n",
      "      (4, 5) :     0 :   0.0 :  None : False : False : PositiveReals\n",
      "      (4, 6) :     0 :   0.0 :  None : False : False : PositiveReals\n",
      "      (4, 7) :     0 :   0.0 :  None : False : False : PositiveReals\n",
      "      (4, 8) :     0 :   0.0 :  None : False : False : PositiveReals\n",
      "      (4, 9) :     0 :   0.0 :  None : False : False : PositiveReals\n",
      "     (4, 10) :     0 :   0.0 :  None : False : False : PositiveReals\n",
      "      (5, 1) :     0 :   0.0 :  None : False : False : PositiveReals\n",
      "      (5, 2) :     0 :   0.0 :  None : False : False : PositiveReals\n",
      "      (5, 3) :     0 :   0.0 :  None : False : False : PositiveReals\n",
      "      (5, 4) :     0 :   0.0 :  None : False : False : PositiveReals\n",
      "      (5, 5) :     0 :   0.0 :  None : False : False : PositiveReals\n",
      "      (5, 6) :     0 :   0.0 :  None : False : False : PositiveReals\n",
      "      (5, 7) :     0 :   0.0 :  None : False : False : PositiveReals\n",
      "      (5, 8) :     0 :   0.0 :  None : False : False : PositiveReals\n",
      "      (5, 9) :     0 :   0.0 :  None : False : False : PositiveReals\n",
      "     (5, 10) :     0 :   0.0 :  None : False : False : PositiveReals\n",
      "      (6, 1) :     0 :   0.0 :  None : False : False : PositiveReals\n",
      "      (6, 2) :     0 :   0.0 :  None : False : False : PositiveReals\n",
      "      (6, 3) :     0 :   0.0 :  None : False : False : PositiveReals\n",
      "      (6, 4) :     0 :   0.0 :  None : False : False : PositiveReals\n",
      "      (6, 5) :     0 :   0.0 :  None : False : False : PositiveReals\n",
      "      (6, 6) :     0 :   0.0 :  None : False : False : PositiveReals\n",
      "      (6, 7) :     0 :   0.0 :  None : False : False : PositiveReals\n",
      "      (6, 8) :     0 :   0.0 :  None : False : False : PositiveReals\n",
      "      (6, 9) :     0 :   0.0 :  None : False : False : PositiveReals\n",
      "     (6, 10) :     0 :   0.0 :  None : False : False : PositiveReals\n",
      "      (7, 1) :     0 :   0.0 :  None : False : False : PositiveReals\n",
      "      (7, 2) :     0 :   0.0 :  None : False : False : PositiveReals\n",
      "      (7, 3) :     0 :   0.0 :  None : False : False : PositiveReals\n",
      "      (7, 4) :     0 :   0.0 :  None : False : False : PositiveReals\n",
      "      (7, 5) :     0 :   0.0 :  None : False : False : PositiveReals\n",
      "      (7, 6) :     0 :   0.0 :  None : False : False : PositiveReals\n",
      "      (7, 7) :     0 :   0.0 :  None : False : False : PositiveReals\n",
      "      (7, 8) :     0 :   0.0 :  None : False : False : PositiveReals\n",
      "      (7, 9) :     0 :   0.0 :  None : False : False : PositiveReals\n",
      "     (7, 10) :     0 :   0.0 :  None : False : False : PositiveReals\n",
      "      (8, 1) :     0 :   0.0 :  None : False : False : PositiveReals\n",
      "      (8, 2) :     0 :   0.0 :  None : False : False : PositiveReals\n",
      "      (8, 3) :     0 :   0.0 :  None : False : False : PositiveReals\n",
      "      (8, 4) :     0 :   0.0 :  None : False : False : PositiveReals\n",
      "      (8, 5) :     0 :   0.0 :  None : False : False : PositiveReals\n",
      "      (8, 6) :     0 :   0.0 :  None : False : False : PositiveReals\n",
      "      (8, 7) :     0 :   0.0 :  None : False : False : PositiveReals\n",
      "      (8, 8) :     0 :   0.0 :  None : False : False : PositiveReals\n",
      "      (8, 9) :     0 :   0.0 :  None : False : False : PositiveReals\n",
      "     (8, 10) :     0 :   0.0 :  None : False : False : PositiveReals\n",
      "      (9, 1) :     0 :   0.0 :  None : False : False : PositiveReals\n",
      "      (9, 2) :     0 :   0.0 :  None : False : False : PositiveReals\n",
      "      (9, 3) :     0 :   0.0 :  None : False : False : PositiveReals\n",
      "      (9, 4) :     0 :   0.0 :  None : False : False : PositiveReals\n",
      "      (9, 5) :     0 :   0.0 :  None : False : False : PositiveReals\n",
      "      (9, 6) :     0 :   0.0 :  None : False : False : PositiveReals\n",
      "      (9, 7) :     0 :   0.0 :  None : False : False : PositiveReals\n",
      "      (9, 8) :     0 :   0.0 :  None : False : False : PositiveReals\n",
      "      (9, 9) :     0 :   0.0 :  None : False : False : PositiveReals\n",
      "     (9, 10) :     0 :   0.0 :  None : False : False : PositiveReals\n",
      "     (10, 1) :     0 :   0.0 :  None : False : False : PositiveReals\n",
      "     (10, 2) :     0 :   0.0 :  None : False : False : PositiveReals\n",
      "     (10, 3) :     0 :   0.0 :  None : False : False : PositiveReals\n",
      "     (10, 4) :     0 :   0.0 :  None : False : False : PositiveReals\n",
      "     (10, 5) :     0 :   0.0 :  None : False : False : PositiveReals\n",
      "     (10, 6) :     0 :   0.0 :  None : False : False : PositiveReals\n",
      "     (10, 7) :     0 :   0.0 :  None : False : False : PositiveReals\n",
      "     (10, 8) :     0 :   0.0 :  None : False : False : PositiveReals\n",
      "     (10, 9) :     0 :   0.0 :  None : False : False : PositiveReals\n",
      "    (10, 10) :     0 :   0.0 :  None : False : False : PositiveReals\n"
     ]
    }
   ],
   "source": [
    "Model.u.display()"
   ]
  },
  {
   "cell_type": "code",
   "execution_count": 53,
   "metadata": {},
   "outputs": [
    {
     "data": {
      "text/plain": [
       "<function __main__.c>"
      ]
     },
     "execution_count": 53,
     "metadata": {},
     "output_type": "execute_result"
    }
   ],
   "source": [
    "c"
   ]
  },
  {
   "cell_type": "code",
   "execution_count": 54,
   "metadata": {
    "scrolled": true
   },
   "outputs": [
    {
     "name": "stdout",
     "output_type": "stream",
     "text": [
      "_2 : Size=8\n",
      "    Key : Lower : Body : Upper\n",
      "      3 :   1.0 :  1.0 :   1.0\n",
      "      4 :   1.0 :  1.0 :   1.0\n",
      "      5 :   1.0 :  1.0 :   1.0\n",
      "      6 :   1.0 :  1.0 :   1.0\n",
      "      7 :   1.0 :  1.0 :   1.0\n",
      "      8 :   1.0 :  1.0 :   1.0\n",
      "      9 :   1.0 :  1.0 :   1.0\n",
      "     10 :   1.0 :  1.0 :   1.0\n"
     ]
    }
   ],
   "source": [
    "Model._2.display()"
   ]
  },
  {
   "cell_type": "code",
   "execution_count": 55,
   "metadata": {},
   "outputs": [
    {
     "name": "stdout",
     "output_type": "stream",
     "text": [
      "_3 : Size=10\n",
      "    Key : Lower : Body : Upper\n",
      "      1 :   0.0 :  0.0 :   0.0\n",
      "      2 :   0.0 :  0.0 :   0.0\n",
      "      3 :   0.0 :  0.0 :   0.0\n",
      "      4 :   0.0 :  0.0 :   0.0\n",
      "      5 :   0.0 :  0.0 :   0.0\n",
      "      6 :   0.0 :  0.0 :   0.0\n",
      "      7 :   0.0 :  0.0 :   0.0\n",
      "      8 :   0.0 :  0.0 :   0.0\n",
      "      9 :   0.0 :  0.0 :   0.0\n",
      "     10 :   0.0 :  0.0 :   0.0\n"
     ]
    }
   ],
   "source": [
    "Model._3.display()"
   ]
  },
  {
   "cell_type": "code",
   "execution_count": 56,
   "metadata": {},
   "outputs": [
    {
     "name": "stdout",
     "output_type": "stream",
     "text": [
      "_4 : Size=8\n",
      "    Key : Lower : Body : Upper\n",
      "      3 :  95.0 : 95.0 :  95.0\n",
      "      4 :  56.0 : 56.0 :  56.0\n",
      "      5 :  83.0 : 83.0 :  83.0\n",
      "      6 :  61.0 : 61.0 :  61.0\n",
      "      7 :  62.0 : 62.0 :  62.0\n",
      "      8 :  90.0 : 90.0 :  90.0\n",
      "      9 :  58.0 : 58.0 :  58.0\n",
      "     10 :  92.0 : 92.0 :  92.0\n"
     ]
    }
   ],
   "source": [
    "Model._4.display()"
   ]
  },
  {
   "cell_type": "code",
   "execution_count": 57,
   "metadata": {},
   "outputs": [
    {
     "name": "stdout",
     "output_type": "stream",
     "text": [
      "_5 : Size=8\n",
      "    Key : Lower : Body : Upper\n",
      "      3 :  68.0 : 68.0 :  68.0\n",
      "      4 :  60.0 : 60.0 :  60.0\n",
      "      5 :  81.0 : 81.0 :  81.0\n",
      "      6 :  91.0 : 91.0 :  91.0\n",
      "      7 :  80.0 : 80.0 :  80.0\n",
      "      8 :  52.0 : 52.0 :  52.0\n",
      "      9 :  86.0 : 86.0 :  86.0\n",
      "     10 :  67.0 : 67.0 :  67.0\n"
     ]
    }
   ],
   "source": [
    "Model._5.display()"
   ]
  },
  {
   "cell_type": "code",
   "execution_count": 58,
   "metadata": {},
   "outputs": [
    {
     "name": "stdout",
     "output_type": "stream",
     "text": [
      "_6 : Size=10\n",
      "    Key : Lower : Body   : Upper\n",
      "      1 :  None :    0.0 :   0.0\n",
      "      2 :  None :    0.0 :   0.0\n",
      "      3 :  None : -200.0 :   0.0\n",
      "      4 :  None : -200.0 :   0.0\n",
      "      5 :  None : -200.0 :   0.0\n",
      "      6 :  None : -200.0 :   0.0\n",
      "      7 :  None : -200.0 :   0.0\n",
      "      8 :  None : -200.0 :   0.0\n",
      "      9 :  None : -200.0 :   0.0\n",
      "     10 :  None : -200.0 :   0.0\n"
     ]
    }
   ],
   "source": [
    "Model._6.display()"
   ]
  },
  {
   "cell_type": "code",
   "execution_count": 59,
   "metadata": {},
   "outputs": [
    {
     "name": "stdout",
     "output_type": "stream",
     "text": [
      "_7 : Size=2\n",
      "    Key : Lower : Body : Upper\n",
      "      1 :   0.0 :  0.0 :   0.0\n",
      "      2 :   0.0 :  0.0 :   0.0\n"
     ]
    }
   ],
   "source": [
    "Model._7.display()"
   ]
  },
  {
   "cell_type": "code",
   "execution_count": 60,
   "metadata": {},
   "outputs": [
    {
     "name": "stdout",
     "output_type": "stream",
     "text": [
      "_8 : Size=2\n",
      "    Key : Lower : Body : Upper\n",
      "      1 :   0.0 :  0.0 :   0.0\n",
      "      2 :   0.0 :  0.0 :   0.0\n"
     ]
    }
   ],
   "source": [
    "Model._8.display()"
   ]
  },
  {
   "cell_type": "code",
   "execution_count": 61,
   "metadata": {},
   "outputs": [
    {
     "name": "stdout",
     "output_type": "stream",
     "text": [
      "_9 : Size=1\n",
      "    Key  : Lower : Body : Upper\n",
      "    None :   0.0 :  0.0 :   0.0\n"
     ]
    }
   ],
   "source": [
    "Model._9.display()"
   ]
  },
  {
   "cell_type": "code",
   "execution_count": 62,
   "metadata": {},
   "outputs": [
    {
     "name": "stdout",
     "output_type": "stream",
     "text": [
      "_10 : Size=2\n",
      "    Key : Lower : Body : Upper\n",
      "      1 :   0.0 :  0.0 :   0.0\n",
      "      2 :   0.0 :  0.0 :   0.0\n"
     ]
    }
   ],
   "source": [
    "Model._10.display()"
   ]
  },
  {
   "cell_type": "code",
   "execution_count": 63,
   "metadata": {},
   "outputs": [
    {
     "name": "stdout",
     "output_type": "stream",
     "text": [
      "_11 : Size=80\n",
      "    Key      : Lower : Body   : Upper\n",
      "      (3, 1) :  None : -105.0 :   0.0\n",
      "      (3, 2) :  None :    0.0 :   0.0\n",
      "      (3, 3) :  None :    0.0 :   0.0\n",
      "      (3, 4) :  None :    0.0 :   0.0\n",
      "      (3, 5) :  None :    0.0 :   0.0\n",
      "      (3, 6) :  None :    0.0 :   0.0\n",
      "      (3, 7) :  None :    0.0 :   0.0\n",
      "      (3, 8) :  None :    0.0 :   0.0\n",
      "      (3, 9) :  None :    0.0 :   0.0\n",
      "     (3, 10) :  None :    0.0 :   0.0\n",
      "      (4, 1) :  None : -144.0 :   0.0\n",
      "      (4, 2) :  None :    0.0 :   0.0\n",
      "      (4, 3) :  None :    0.0 :   0.0\n",
      "      (4, 4) :  None :    0.0 :   0.0\n",
      "      (4, 5) :  None :    0.0 :   0.0\n",
      "      (4, 6) :  None :    0.0 :   0.0\n",
      "      (4, 7) :  None :    0.0 :   0.0\n",
      "      (4, 8) :  None :    0.0 :   0.0\n",
      "      (4, 9) :  None :    0.0 :   0.0\n",
      "     (4, 10) :  None :    0.0 :   0.0\n",
      "      (5, 1) :  None : -117.0 :   0.0\n",
      "      (5, 2) :  None :    0.0 :   0.0\n",
      "      (5, 3) :  None :    0.0 :   0.0\n",
      "      (5, 4) :  None :    0.0 :   0.0\n",
      "      (5, 5) :  None :    0.0 :   0.0\n",
      "      (5, 6) :  None :    0.0 :   0.0\n",
      "      (5, 7) :  None :    0.0 :   0.0\n",
      "      (5, 8) :  None :    0.0 :   0.0\n",
      "      (5, 9) :  None :    0.0 :   0.0\n",
      "     (5, 10) :  None :    0.0 :   0.0\n",
      "      (6, 1) :  None : -139.0 :   0.0\n",
      "      (6, 2) :  None :    0.0 :   0.0\n",
      "      (6, 3) :  None :    0.0 :   0.0\n",
      "      (6, 4) :  None :    0.0 :   0.0\n",
      "      (6, 5) :  None :    0.0 :   0.0\n",
      "      (6, 6) :  None :    0.0 :   0.0\n",
      "      (6, 7) :  None :    0.0 :   0.0\n",
      "      (6, 8) :  None :    0.0 :   0.0\n",
      "      (6, 9) :  None :    0.0 :   0.0\n",
      "     (6, 10) :  None :    0.0 :   0.0\n",
      "      (7, 1) :  None : -138.0 :   0.0\n",
      "      (7, 2) :  None :    0.0 :   0.0\n",
      "      (7, 3) :  None :    0.0 :   0.0\n",
      "      (7, 4) :  None :    0.0 :   0.0\n",
      "      (7, 5) :  None :    0.0 :   0.0\n",
      "      (7, 6) :  None :    0.0 :   0.0\n",
      "      (7, 7) :  None :    0.0 :   0.0\n",
      "      (7, 8) :  None :    0.0 :   0.0\n",
      "      (7, 9) :  None :    0.0 :   0.0\n",
      "     (7, 10) :  None :    0.0 :   0.0\n",
      "      (8, 1) :  None : -110.0 :   0.0\n",
      "      (8, 2) :  None :    0.0 :   0.0\n",
      "      (8, 3) :  None :    0.0 :   0.0\n",
      "      (8, 4) :  None :    0.0 :   0.0\n",
      "      (8, 5) :  None :    0.0 :   0.0\n",
      "      (8, 6) :  None :    0.0 :   0.0\n",
      "      (8, 7) :  None :    0.0 :   0.0\n",
      "      (8, 8) :  None :    0.0 :   0.0\n",
      "      (8, 9) :  None :    0.0 :   0.0\n",
      "     (8, 10) :  None :    0.0 :   0.0\n",
      "      (9, 1) :  None : -142.0 :   0.0\n",
      "      (9, 2) :  None :    0.0 :   0.0\n",
      "      (9, 3) :  None :    0.0 :   0.0\n",
      "      (9, 4) :  None :    0.0 :   0.0\n",
      "      (9, 5) :  None :    0.0 :   0.0\n",
      "      (9, 6) :  None :    0.0 :   0.0\n",
      "      (9, 7) :  None :    0.0 :   0.0\n",
      "      (9, 8) :  None :    0.0 :   0.0\n",
      "      (9, 9) :  None :    0.0 :   0.0\n",
      "     (9, 10) :  None :    0.0 :   0.0\n",
      "     (10, 1) :  None : -108.0 :   0.0\n",
      "     (10, 2) :  None :    0.0 :   0.0\n",
      "     (10, 3) :  None :    0.0 :   0.0\n",
      "     (10, 4) :  None :    0.0 :   0.0\n",
      "     (10, 5) :  None :    0.0 :   0.0\n",
      "     (10, 6) :  None :    0.0 :   0.0\n",
      "     (10, 7) :  None :    0.0 :   0.0\n",
      "     (10, 8) :  None :    0.0 :   0.0\n",
      "     (10, 9) :  None :    0.0 :   0.0\n",
      "    (10, 10) :  None :    0.0 :   0.0\n"
     ]
    }
   ],
   "source": [
    "Model._11.display()"
   ]
  },
  {
   "cell_type": "code",
   "execution_count": 64,
   "metadata": {},
   "outputs": [
    {
     "name": "stdout",
     "output_type": "stream",
     "text": [
      "_12 : Size=80\n",
      "    Key      : Lower : Body   : Upper\n",
      "      (3, 1) :  None : -132.0 :   0.0\n",
      "      (3, 2) :  None :    0.0 :   0.0\n",
      "      (3, 3) :  None :    0.0 :   0.0\n",
      "      (3, 4) :  None :    0.0 :   0.0\n",
      "      (3, 5) :  None :    0.0 :   0.0\n",
      "      (3, 6) :  None :    0.0 :   0.0\n",
      "      (3, 7) :  None :    0.0 :   0.0\n",
      "      (3, 8) :  None :    0.0 :   0.0\n",
      "      (3, 9) :  None :    0.0 :   0.0\n",
      "     (3, 10) :  None :    0.0 :   0.0\n",
      "      (4, 1) :  None : -140.0 :   0.0\n",
      "      (4, 2) :  None :    0.0 :   0.0\n",
      "      (4, 3) :  None :    0.0 :   0.0\n",
      "      (4, 4) :  None :    0.0 :   0.0\n",
      "      (4, 5) :  None :    0.0 :   0.0\n",
      "      (4, 6) :  None :    0.0 :   0.0\n",
      "      (4, 7) :  None :    0.0 :   0.0\n",
      "      (4, 8) :  None :    0.0 :   0.0\n",
      "      (4, 9) :  None :    0.0 :   0.0\n",
      "     (4, 10) :  None :    0.0 :   0.0\n",
      "      (5, 1) :  None : -119.0 :   0.0\n",
      "      (5, 2) :  None :    0.0 :   0.0\n",
      "      (5, 3) :  None :    0.0 :   0.0\n",
      "      (5, 4) :  None :    0.0 :   0.0\n",
      "      (5, 5) :  None :    0.0 :   0.0\n",
      "      (5, 6) :  None :    0.0 :   0.0\n",
      "      (5, 7) :  None :    0.0 :   0.0\n",
      "      (5, 8) :  None :    0.0 :   0.0\n",
      "      (5, 9) :  None :    0.0 :   0.0\n",
      "     (5, 10) :  None :    0.0 :   0.0\n",
      "      (6, 1) :  None : -109.0 :   0.0\n",
      "      (6, 2) :  None :    0.0 :   0.0\n",
      "      (6, 3) :  None :    0.0 :   0.0\n",
      "      (6, 4) :  None :    0.0 :   0.0\n",
      "      (6, 5) :  None :    0.0 :   0.0\n",
      "      (6, 6) :  None :    0.0 :   0.0\n",
      "      (6, 7) :  None :    0.0 :   0.0\n",
      "      (6, 8) :  None :    0.0 :   0.0\n",
      "      (6, 9) :  None :    0.0 :   0.0\n",
      "     (6, 10) :  None :    0.0 :   0.0\n",
      "      (7, 1) :  None : -120.0 :   0.0\n",
      "      (7, 2) :  None :    0.0 :   0.0\n",
      "      (7, 3) :  None :    0.0 :   0.0\n",
      "      (7, 4) :  None :    0.0 :   0.0\n",
      "      (7, 5) :  None :    0.0 :   0.0\n",
      "      (7, 6) :  None :    0.0 :   0.0\n",
      "      (7, 7) :  None :    0.0 :   0.0\n",
      "      (7, 8) :  None :    0.0 :   0.0\n",
      "      (7, 9) :  None :    0.0 :   0.0\n",
      "     (7, 10) :  None :    0.0 :   0.0\n",
      "      (8, 1) :  None : -148.0 :   0.0\n",
      "      (8, 2) :  None :    0.0 :   0.0\n",
      "      (8, 3) :  None :    0.0 :   0.0\n",
      "      (8, 4) :  None :    0.0 :   0.0\n",
      "      (8, 5) :  None :    0.0 :   0.0\n",
      "      (8, 6) :  None :    0.0 :   0.0\n",
      "      (8, 7) :  None :    0.0 :   0.0\n",
      "      (8, 8) :  None :    0.0 :   0.0\n",
      "      (8, 9) :  None :    0.0 :   0.0\n",
      "     (8, 10) :  None :    0.0 :   0.0\n",
      "      (9, 1) :  None : -114.0 :   0.0\n",
      "      (9, 2) :  None :    0.0 :   0.0\n",
      "      (9, 3) :  None :    0.0 :   0.0\n",
      "      (9, 4) :  None :    0.0 :   0.0\n",
      "      (9, 5) :  None :    0.0 :   0.0\n",
      "      (9, 6) :  None :    0.0 :   0.0\n",
      "      (9, 7) :  None :    0.0 :   0.0\n",
      "      (9, 8) :  None :    0.0 :   0.0\n",
      "      (9, 9) :  None :    0.0 :   0.0\n",
      "     (9, 10) :  None :    0.0 :   0.0\n",
      "     (10, 1) :  None : -133.0 :   0.0\n",
      "     (10, 2) :  None :    0.0 :   0.0\n",
      "     (10, 3) :  None :    0.0 :   0.0\n",
      "     (10, 4) :  None :    0.0 :   0.0\n",
      "     (10, 5) :  None :    0.0 :   0.0\n",
      "     (10, 6) :  None :    0.0 :   0.0\n",
      "     (10, 7) :  None :    0.0 :   0.0\n",
      "     (10, 8) :  None :    0.0 :   0.0\n",
      "     (10, 9) :  None :    0.0 :   0.0\n",
      "    (10, 10) :  None :    0.0 :   0.0\n"
     ]
    }
   ],
   "source": [
    "Model._12.display()"
   ]
  },
  {
   "cell_type": "code",
   "execution_count": 65,
   "metadata": {},
   "outputs": [
    {
     "name": "stdout",
     "output_type": "stream",
     "text": [
      "_13 : Size=1\n",
      "    Key  : Lower : Body : Upper\n",
      "    None :  None :  0.0 :   0.0\n"
     ]
    }
   ],
   "source": [
    "Model._13.display()"
   ]
  },
  {
   "cell_type": "code",
   "execution_count": 66,
   "metadata": {},
   "outputs": [
    {
     "name": "stdout",
     "output_type": "stream",
     "text": [
      "_14 : Size=1\n",
      "    Key  : Lower : Body : Upper\n",
      "    None :  None :  0.0 :   0.0\n"
     ]
    }
   ],
   "source": [
    "Model._14.display()"
   ]
  },
  {
   "cell_type": "code",
   "execution_count": 67,
   "metadata": {},
   "outputs": [
    {
     "name": "stdout",
     "output_type": "stream",
     "text": [
      "_15 : Size=1\n",
      "    Key  : Lower : Body : Upper\n",
      "    None :   1.0 :  1.0 :   1.0\n"
     ]
    }
   ],
   "source": [
    "Model._15.display()"
   ]
  },
  {
   "cell_type": "code",
   "execution_count": 68,
   "metadata": {},
   "outputs": [
    {
     "name": "stdout",
     "output_type": "stream",
     "text": [
      "_16 : Size=1\n",
      "    Key  : Lower : Body   : Upper\n",
      "    None :  None : -134.0 :   0.0\n"
     ]
    }
   ],
   "source": [
    "Model._16.display()"
   ]
  },
  {
   "cell_type": "code",
   "execution_count": 69,
   "metadata": {},
   "outputs": [
    {
     "name": "stdout",
     "output_type": "stream",
     "text": [
      "_17 : Size=1\n",
      "    Key  : Lower : Body   : Upper\n",
      "    None :  None : -134.0 :   0.0\n"
     ]
    }
   ],
   "source": [
    "Model._17.display()"
   ]
  },
  {
   "cell_type": "code",
   "execution_count": 70,
   "metadata": {},
   "outputs": [
    {
     "name": "stdout",
     "output_type": "stream",
     "text": [
      "_18 : Size=1\n",
      "    Key  : Lower : Body : Upper\n",
      "    None :  None :  0.0 :   0.0\n"
     ]
    }
   ],
   "source": [
    "Model._18.display()"
   ]
  },
  {
   "cell_type": "code",
   "execution_count": 71,
   "metadata": {},
   "outputs": [
    {
     "name": "stdout",
     "output_type": "stream",
     "text": [
      "_19 : Size=1\n",
      "    Key  : Lower : Body : Upper\n",
      "    None :  None :  0.0 :   0.0\n"
     ]
    }
   ],
   "source": [
    "Model._19.display()"
   ]
  },
  {
   "cell_type": "code",
   "execution_count": 72,
   "metadata": {},
   "outputs": [
    {
     "name": "stdout",
     "output_type": "stream",
     "text": [
      "_20 : Size=1\n",
      "    Key  : Lower : Body : Upper\n",
      "    None :  None :  1.0 :   2.0\n"
     ]
    }
   ],
   "source": [
    "Model._20.display()"
   ]
  },
  {
   "cell_type": "code",
   "execution_count": 36,
   "metadata": {},
   "outputs": [
    {
     "name": "stdout",
     "output_type": "stream",
     "text": [
      "# ==========================================================\n",
      "# = Solver Results                                         =\n",
      "# ==========================================================\n",
      "# ----------------------------------------------------------\n",
      "#   Problem Information\n",
      "# ----------------------------------------------------------\n",
      "Problem: \n",
      "- Name: unknown\n",
      "  Lower bound: -inf\n",
      "  Upper bound: inf\n",
      "  Number of objectives: 1\n",
      "  Number of constraints: 585\n",
      "  Number of variables: 311\n",
      "  Number of nonzeros: 1839\n",
      "  Sense: minimize\n",
      "# ----------------------------------------------------------\n",
      "#   Solver Information\n",
      "# ----------------------------------------------------------\n",
      "Solver: \n",
      "- Status: ok\n",
      "  Termination condition: infeasible\n",
      "  Statistics: \n",
      "    Branch and bound: \n",
      "      Number of bounded subproblems: 0\n",
      "      Number of created subproblems: 0\n",
      "  Error rc: 0\n",
      "  Time: 0.12800931930541992\n",
      "\n",
      "Displaying Solution\n",
      "!!!!!!!!!!!!!!!!!!!!!!!!!!!!!!!!!!!!!!!!!!!!!!!!!!!!!!!!!!!!\n",
      "objective : Size=1, Index=None, Active=True\n",
      "ERROR: evaluating expression: No value for uninitialized NumericValue object\n",
      "    x[1,2]\n",
      "        (expression: 149.8966310495336*x[1,2] + 27.730849247724095*x[1,3] +\n",
      "        130.96946208945045*x[1,4] + 135.34031180694095*x[1,5] +\n",
      "        61.220911460055866*x[1,6] + 144.91721774861674*x[1,7] +\n",
      "        60.53924347066124*x[1,8] + 118.10588469674151*x[1,9] + 52.0*x[1,10] +\n",
      "        149.8966310495336*x[2,1] + 133.63382805263043*x[2,3] +\n",
      "        82.03657720797473*x[2,4] + 14.560219778561036*x[2,5] +\n",
      "        183.273020382161*x[2,6] + 42.5440947723653*x[2,7] +\n",
      "        90.2551937563706*x[2,8] + 35.35533905932738*x[2,9] +\n",
      "        165.3027525481654*x[2,10] + 27.730849247724095*x[3,1] +\n",
      "        133.63382805263043*x[3,2] + 104.6900186264192*x[3,4] +\n",
      "        119.33985084622823*x[3,5] + 55.036351623268054*x[3,6] +\n",
      "        122.65398485169571*x[3,7] + 44.04543109109048*x[3,8] +\n",
      "        99.6393496566492*x[3,9] + 39.408120990476064*x[3,10] +\n",
      "        130.96946208945045*x[4,1] + 82.03657720797473*x[4,2] +\n",
      "        104.6900186264192*x[4,3] + 76.27581530209953*x[4,5] +\n",
      "        135.19245541079576*x[4,6] + 42.190046219457976*x[4,7] +\n",
      "        80.62257748298549*x[4,8] + 58.309518948453004*x[4,9] +\n",
      "        118.59595271340417*x[4,10] + 135.34031180694095*x[5,1] +\n",
      "        14.560219778561036*x[5,2] + 119.33985084622823*x[5,3] +\n",
      "        76.27581530209953*x[5,4] + 169.57889019568444*x[5,6] +\n",
      "        41.593268686170845*x[5,7] + 75.8023746329889*x[5,8] +\n",
      "        22.847319317591726*x[5,9] + 151.64761785138597*x[5,10] +\n",
      "        61.220911460055866*x[6,1] + 183.273020382161*x[6,2] +\n",
      "        55.036351623268054*x[6,3] + 135.19245541079576*x[6,4] +\n",
      "        169.57889019568444*x[6,5] + 164.23458831805192*x[6,7] +\n",
      "        97.26767191621273*x[6,8] + 148.08443537387717*x[6,9] + 18.0*x[6,10] +\n",
      "        144.91721774861674*x[7,1] + 42.5440947723653*x[7,2] +\n",
      "        122.65398485169571*x[7,3] + 42.190046219457976*x[7,4] +\n",
      "        41.593268686170845*x[7,5] + 164.23458831805192*x[7,6] +\n",
      "        85.60373823613078*x[7,8] + 34.92849839314596*x[7,9] +\n",
      "        146.50938536489735*x[7,10] + 60.53924347066124*x[8,1] +\n",
      "        90.2551937563706*x[8,2] + 44.04543109109048*x[8,3] +\n",
      "        80.62257748298549*x[8,4] + 75.8023746329889*x[8,5] +\n",
      "        97.26767191621273*x[8,6] + 85.60373823613078*x[8,7] +\n",
      "        57.584720195551874*x[8,9] + 80.00624975587844*x[8,10] +\n",
      "        118.10588469674151*x[9,1] + 35.35533905932738*x[9,2] +\n",
      "        99.6393496566492*x[9,3] + 58.309518948453004*x[9,4] +\n",
      "        22.847319317591726*x[9,5] + 148.08443537387717*x[9,6] +\n",
      "        34.92849839314596*x[9,7] + 57.584720195551874*x[9,8] +\n",
      "        130.09611831257686*x[9,10] + 52.0*x[10,1] + 165.3027525481654*x[10,2]\n",
      "        + 39.408120990476064*x[10,3] + 118.59595271340417*x[10,4] +\n",
      "        151.64761785138597*x[10,5] + 18.0*x[10,6] + 146.50938536489735*x[10,7]\n",
      "        + 80.00624975587844*x[10,8] + 130.09611831257686*x[10,9] + 36*y[1] +\n",
      "        33*y[2] + 20*x[1,3] + 20*x[1,4] + 20*x[1,5] + 20*x[1,6] + 20*x[1,7] +\n",
      "        20*x[1,8] + 20*x[1,9] + 20*x[1,10] + 20*x[2,3] + 20*x[2,4] + 20*x[2,5]\n",
      "        + 20*x[2,6] + 20*x[2,7] + 20*x[2,8] + 20*x[2,9] + 20*x[2,10])\n",
      "ERROR: evaluating object as numeric value: objective\n",
      "        (object: <class 'pyomo.core.base.objective.SimpleObjective'>)\n",
      "    No value for uninitialized NumericValue object x[1,2]\n",
      "    Key : Active : Value\n",
      "    None :   None :  None\n"
     ]
    }
   ],
   "source": []
  },
  {
   "cell_type": "code",
   "execution_count": null,
   "metadata": {},
   "outputs": [],
   "source": [
    "from pyomo.environ import *\n",
    "\n",
    "\n",
    "Model = ConcreteModel()\n",
    "\n",
    "Model.n =  RangeSet(1,10)\n",
    "\n",
    "Model.n0 = RangeSet(1,2)\n",
    "\n",
    "Model.nc = RangeSet(3,10)\n",
    "\n",
    "\n",
    "\n",
    "\n",
    "\n",
    "\n",
    "x1 = {1:117 , 2:79 , 3:92 , 4:20 ,5:83 , 6:69 , 7:42 , 8:94 , 9:74 , 10:69}\n",
    "\n",
    "Model.x1 = Param(Model.n,initialize = x1)\n",
    "\n",
    "\n",
    "\n",
    "y1 = {1:174 , 2:29 , 3:162 , 4:86 , 5:43 , 6:212 , 7 :50 , 8:118 , 9:64 , 10:194}\n",
    "\n",
    "Model.y1 = Param(Model.n,initialize = y1)\n",
    "\n",
    "\n",
    "\n",
    "\n",
    "d = {3:112 , 4:112 , 5:62 , 6:145 , 7:135 , 8:128 , 9:71 , 10:54}\n",
    "\n",
    "Model.d = Param(Model.nc,initialize = d)\n",
    "\n",
    "\n",
    "\n",
    "p = {3:23 , 4:200 , 5:13 , 6:200 , 7:27 , 8:200 , 9:15 , 10:98}\n",
    "\n",
    "Model.p = Param(Model.nc,initialize = p)\n",
    "\n",
    "\n",
    "\n",
    "fd ={1:36 , 2:33}\n",
    "\n",
    "Model.fd = Param(Model.n0,initialize = fd)\n",
    "\n",
    "\n",
    "\n",
    "cd = 1000\n",
    "\n",
    "\n",
    "cv = 200\n",
    "\n",
    "fv =20\n",
    "\n",
    "\n",
    "c ={}\n",
    "for i in Model.n:\n",
    "    for j in Model.n:\n",
    "               c[i,j] = ((x1[i]-x1[j])**2+ (y1[i]-y1[j])**2)**0.5\n",
    "\n",
    "Model.c = Param(Model.n,Model.n ,initialize = c)\n",
    "\n",
    "\n",
    "\n",
    "Model.x  = Var(Model.n , Model.n , within = Binary)\n",
    "\n",
    "\n",
    "Model.y = Var(Model.n0  , within = Binary)\n",
    "\n",
    "Model.z = Var(Model.nc , Model.n0  , within = Binary)\n",
    "\n",
    "\n",
    "Model.v = Var(Model.n,Model.n , within = PositiveReals)\n",
    "\n",
    "Model.u = Var(Model.n,Model.n , within = PositiveReals)\n",
    "\n",
    "\n",
    "\n",
    "\n",
    "def _2 (Model,i):\n",
    "     \n",
    "        xij=0\n",
    "        for j in Model.n:\n",
    "            xij+=Model.x[i,j]\n",
    "            return xij ==1\n",
    "    \n",
    "Model._2 = Constraint(Model.nc,rule =_2)\n",
    "\n",
    "\n",
    "\n",
    "def _3 (Model,i):\n",
    "    \n",
    "        xij=0\n",
    "        xji=0\n",
    "        for j in Model.n:\n",
    "            xij+=Model.x[i,j]\n",
    "            xji+=Model.x[j,i]\n",
    "        return xij == xji\n",
    "Model._3 = Constraint(Model.n,rule =_3)\n",
    "\n",
    "\n",
    "\n",
    "def _4 (Model,i):\n",
    "    \n",
    "        uij = 0\n",
    "        uji = 0\n",
    "        for j in Model.n:\n",
    "            uji +=Model.u[j,i]\n",
    "            uij +=Model.u[i,j]\n",
    "        return uji - uij == Model.d[i]\n",
    "Model._4 = Constraint(Model.nc,rule =_4)\n",
    "\n",
    "\n",
    "\n",
    "def _5 (Model,i):\n",
    "    \n",
    "        vij = 0\n",
    "        vji = 0\n",
    "        for j in Model.n:\n",
    "            vji +=Model.v[j,i]\n",
    "            vij +=Model.v[i,j]\n",
    "        return vji - vij == Model.p[i]\n",
    "Model._5 = Constraint(Model.nc,rule =_5)\n",
    "\n",
    "\n",
    "def _6 (Model,i,j):\n",
    "  \n",
    "            if i == j:\n",
    "                Constraint.Skip\n",
    "        \n",
    "            return  Model.u[i,j] + Model.v[i,j] <=cv * Model.x[i,j]\n",
    "            \n",
    "                  \n",
    "Model._6 = Constraint(Model.nc,Model.nc,rule =_6)\n",
    "\n",
    "\n",
    "\n",
    "def _7 (Model,k):\n",
    "    \n",
    "        ukj = 0\n",
    "        zjkdj = 0\n",
    "        for j in Model.nc:\n",
    "            ukj += Model.u[k,j]\n",
    "            zjkdj +=Model.z[j,k]*Model.d[j]\n",
    "        return ukj == zjkdj\n",
    "Model._7 = Constraint(Model.n0,rule =_7)\n",
    "\n",
    "\n",
    "\n",
    "def _8 (Model,k):\n",
    "    \n",
    "        ujk=0\n",
    "        for j in Model.nc:\n",
    "            ujk+=Model.u[j,k]\n",
    "        return ujk == 0\n",
    "Model._8 = Constraint(Model.n0,rule =_8)\n",
    "\n",
    "\n",
    "\n",
    "def _9 (Model,k):\n",
    "    \n",
    "        vjk = 0\n",
    "        zjkpj = 0\n",
    "        for j in Model.nc:\n",
    "            vjk += Model.v[k,j]\n",
    "            zjkpj +=Model.z[j,k]*Model.p[j]\n",
    "        return vjk == zjkpj\n",
    "Model._9 = Constraint(Model.n0,rule =_9)\n",
    "\n",
    "\n",
    "\n",
    "def _10 (Model,k):\n",
    "    \n",
    "        vkj=0\n",
    "        for j in Model.nc:\n",
    "            vkj+=Model.v[k,j]\n",
    "        return vkj == 0\n",
    "Model._10 = Constraint(Model.n0,rule =_10)\n",
    "\n",
    "\n",
    "\n",
    "\n",
    "def _11 (Model,j,i):\n",
    "   \n",
    "            return Model.u[i,j] <= (cv - Model.d[i])* Model.x[i,j]\n",
    "Model._11 = Constraint(Model.n,Model.nc,rule =_11)\n",
    "\n",
    "\n",
    "def _12 (Model,i,j):\n",
    "   \n",
    "            return Model.v[i,j] <= (cv - Model.p[j])* Model.x[i,j]\n",
    "Model._12 = Constraint(Model.n,Model.nc,rule =_12)\n",
    "\n",
    "\n",
    "\n",
    "def _13 (Model,i,j):\n",
    "   \n",
    "            return Model.u[i,j] >= Model.d[j]*Model.x[i,j]\n",
    "Model._13 = Constraint(Model.n,Model.nc,rule =_13)\n",
    "\n",
    "\n",
    "\n",
    "def _14 (Model,j,i):\n",
    "    \n",
    "            return Model.v[i,j] >= Model.p[i] * Model.x[i,j]\n",
    "Model._14 = Constraint(Model.n,Model.nc,rule =_14)\n",
    "\n",
    "def _15 (Model,i):\n",
    "    \n",
    "        zik=0\n",
    "        for k in Model.n0:\n",
    "            zik += Model.z[i,k]\n",
    "        return zik == 1\n",
    "Model._15 = Constraint(Model.nc,rule =_15)\n",
    "\n",
    "def _16 (Model,k):\n",
    "    \n",
    "        dizik = 0\n",
    "        for i in Model.nc:\n",
    "            dizik += Model.d[i] * Model.z[i,k]\n",
    "        return dizik <=cd * Model.y[k]\n",
    "Model._16 = Constraint(Model.n0,rule =_16)\n",
    "\n",
    "def _17 (Model,k):\n",
    "    \n",
    "        pizik = 0\n",
    "        for i in Model.nc:\n",
    "            pizik += Model.p[i] * Model.z[i,k]\n",
    "        return pizik <=cd * Model.y[k]\n",
    "Model._17 = Constraint(Model.n0,rule =_17)\n",
    "\n",
    "def _18 (Model,k):\n",
    "    \n",
    "        for i in Model.nc:\n",
    "            return Model.x[i,k] <= Model.z[i,k]\n",
    "Model._18 = Constraint(Model.n0,rule =_18)\n",
    "\n",
    "def _19 (Model,k,i):\n",
    "   \n",
    "            return Model.x[k,i] <= Model.z[i,k]\n",
    "Model._19 = Constraint(Model.n0,Model.nc,rule =_19)\n",
    "\n",
    "def _20 (Model,i,j,k):\n",
    "    \n",
    "                if i==j :\n",
    "                    Constraint.Skip\n",
    "                zjm = 0\n",
    "                for m in Model.n0:\n",
    "                    if m == k:\n",
    "                            Constraint.Skip\n",
    "                    \n",
    "                    zjm += Model.z[j,m]\n",
    "                    return Model.x[i,j]+Model.z[i,k] + zjm <=2\n",
    "Model._20 = Constraint(Model.nc,Model.nc,Model.n0,rule =_20)\n",
    "\n",
    "\n",
    "def obj (Model):\n",
    "    cx = 0\n",
    "    fdy = 0\n",
    "    fvx = 0\n",
    "    for i in Model.n :\n",
    "        for j in Model.n :\n",
    "            cx += Model.c[i,j]*Model.x[i,j]\n",
    "    for k in Model.n0 :\n",
    "        fdy += Model.fd[k] * Model.y[k]\n",
    "    for k in Model.n0 :\n",
    "        for i in Model.nc :\n",
    "            fvx += fv * Model.x[k,i]\n",
    "    return cx + fdy + fvx\n",
    "Model.objective = Objective(rule=obj)\n",
    "\n",
    "\n",
    "\n",
    "def pyomo_postprocess(options=None, instance=None, results=None):\n",
    "        Model.objective.display()\n",
    "        \n",
    "\n",
    "    #This is an optional code path that allows the script to be run outside of\n",
    "    #pyomo command-line.  For example:  python transport.py\n",
    "if __name__ == '__main__':\n",
    "   # This emulates what the pyomo command-line tools does\n",
    "    from pyomo.opt import SolverFactory\n",
    "#   import pyomo.environ\n",
    "    opt = SolverFactory(\"glpk\")\n",
    "    results = opt.solve(Model)\n",
    "    #sends results to stdout\n",
    "#    results.write()\n",
    "#    print(\"\\nDisplaying Solution\\n\" + '!'*60)\n",
    "     pyomo_postprocess(None, Model, results)"
   ]
  }
 ],
 "metadata": {
  "kernelspec": {
   "display_name": "Python 3",
   "language": "python",
   "name": "python3"
  },
  "language_info": {
   "codemirror_mode": {
    "name": "ipython",
    "version": 3
   },
   "file_extension": ".py",
   "mimetype": "text/x-python",
   "name": "python",
   "nbconvert_exporter": "python",
   "pygments_lexer": "ipython3",
   "version": "3.6.4"
  }
 },
 "nbformat": 4,
 "nbformat_minor": 2
}
